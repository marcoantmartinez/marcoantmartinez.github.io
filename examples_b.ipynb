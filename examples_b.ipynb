{
 "cells": [
  {
   "cell_type": "markdown",
   "metadata": {
    "deletable": true,
    "editable": true,
    "run_control": {
     "frozen": false,
     "marked": true,
     "read_only": false
    }
   },
   "source": [
    "<div class=\"jumbotron\">\n",
    "      <h1>RASPBERRY PI</h1>\n",
    "      <p>Este apartado incluye el resumen de las configuraciones comunes.</p>\n",
    "</div>"
   ]
  },
  {
   "cell_type": "markdown",
   "metadata": {
    "deletable": true,
    "editable": true,
    "run_control": {
     "marked": true
    }
   },
   "source": [
    "## EJECT\n",
    "\n",
    "para instalar:\n",
    "```bash\n",
    "sudo apt-get install eject\n",
    "```\n",
    "\n",
    "para utilizar:\n",
    "```bash\n",
    "sudo eject /dev/sda\n",
    "```\n",
    "\n",
    "<div class=\"alert alert-warning\"><strong>Nota:</strong> El comando `eject` provoca que la unidad de disco en cuestión quede en modo `sleep` (si el hardware de la unidad lo implementa) hasta que vuelva a ser montada, esto reduce el consumo y alarga la vida del disco duro.</div>\n",
    "\n",
    "<div class=\"alert alert-warning\"><strong>Nota:</strong> El comando `blkid` que muestra el bloque de unidades de disco del OS, saca a las unidades de disco del modo `sleep`.</div>"
   ]
  },
  {
   "cell_type": "markdown",
   "metadata": {
    "deletable": true,
    "editable": true,
    "run_control": {
     "marked": true
    }
   },
   "source": [
    "## HFS+\n",
    "para instalar:\n",
    "```bash\n",
    "sudo apt-get install hfsplus hfsutils hfsprogs\n",
    "```\n",
    "\n",
    "para configuar editar fstab:\n",
    "```bash\n",
    "sudo nano /etc/fstab\n",
    "UUID=\"7c5a68a5-31a1-3b65-bffe-75a3b944adfa\"   /media/series01  hfsplus defaults,uid=1000,rw,noatime    0   0\n",
    "UUID=\"7c5a68a5-31a1-3b65-bffe-75a3b944adfa\"   /media/series01  hfsplus defaults,force    0   0\n",
    "```\n",
    "para utilizar \n",
    "```bash\n",
    "sudo nount -a\n",
    "o\n",
    "sudo mount -o force -t hfsplus /dev/sda\n",
    "o\n",
    "sudo mount -o force -t hfsplus UUID=\"7c5a68a5-31a1-3b65-bffe-75a3b944adfa\"\n",
    "```\n",
    "<div class=\"alert alert-danger\"><strong>Nota:</strong> Si por ejemplo la fuente de alimentación de la unidad de disco duro externo esta apagada, al iniciarse el OS Raspbian, no podrá montar la unidad, lo que provocará un error y que automáticamente entre en modo ROOT y que algunos de los servicios queden sin funcionar.</div>\n",
    "<div class=\"alert alert-info\"><strong>Workaround:</strong> Para mitigar el problema anterior, se puede inhabilitar con `#` los comandos del fichero **`fstab`** que montan las unidades de disco, así OS Raspbian arrancará sin problemas los servicios, posteriormente se pueden volver a habilitar los comandos de **`fstab`** y luego ejecutar el comando `mount` para montar la unidad de disco deseada</div>"
   ]
  },
  {
   "cell_type": "markdown",
   "metadata": {
    "deletable": true,
    "editable": true,
    "run_control": {
     "marked": true
    }
   },
   "source": [
    "## KILL\n",
    "```bash\n",
    "killall -s 9 omxplayer.bin\n",
    "pkill btsync\n",
    "```"
   ]
  },
  {
   "cell_type": "markdown",
   "metadata": {
    "deletable": true,
    "editable": true
   },
   "source": [
    "## UPDATE\n",
    "\n",
    "```bash\n",
    "sudo apt-get update        #update sw\n",
    "sudo apt-get upgrade       #upgrade sw\n",
    "sudo apt-get dist-upgrade  #upgrade os\n",
    "sudo rpi-update            #update firmware\n",
    "```"
   ]
  },
  {
   "cell_type": "markdown",
   "metadata": {
    "deletable": true,
    "editable": true
   },
   "source": [
    "## PUERTOS ABIERTOS\n",
    "\n",
    "```bash\n",
    "netstat -ntulp\n",
    "```"
   ]
  },
  {
   "cell_type": "markdown",
   "metadata": {
    "deletable": true,
    "editable": true
   },
   "source": [
    "# Bootstrap examples"
   ]
  },
  {
   "cell_type": "markdown",
   "metadata": {
    "deletable": true,
    "editable": true
   },
   "source": [
    "<span class=\"label label-default\">Default</span>\n",
    "<span class=\"label label-primary\">Primary</span>\n",
    "<span class=\"label label-success\">Success</span>\n",
    "<span class=\"label label-info\">Info</span>\n",
    "<span class=\"label label-warning\">Warning</span>\n",
    "<span class=\"label label-danger\">Danger</span>"
   ]
  },
  {
   "cell_type": "markdown",
   "metadata": {
    "deletable": true,
    "editable": true,
    "run_control": {
     "marked": true
    }
   },
   "source": [
    "<div class=\"progress\">\n",
    "  <div class=\"progress-bar progress-bar-success\" role=\"progressbar\" aria-valuenow=\"40\" aria-valuemin=\"0\" aria-valuemax=\"100\" style=\"width: 40%\">\n",
    "    <span class=\"sr-only\">40% Complete (success)</span>\n",
    "  </div>\n",
    "</div>\n",
    "<div class=\"progress\">\n",
    "  <div class=\"progress-bar progress-bar-info\" role=\"progressbar\" aria-valuenow=\"20\" aria-valuemin=\"0\" aria-valuemax=\"100\" style=\"width: 20%\">\n",
    "    <span class=\"sr-only\">20% Complete</span>\n",
    "  </div>\n",
    "</div>\n",
    "<div class=\"progress\">\n",
    "  <div class=\"progress-bar progress-bar-warning\" role=\"progressbar\" aria-valuenow=\"60\" aria-valuemin=\"0\" aria-valuemax=\"100\" style=\"width: 60%\">\n",
    "    <span class=\"sr-only\">60% Complete (warning)</span>\n",
    "  </div>\n",
    "</div>\n",
    "<div class=\"progress\">\n",
    "  <div class=\"progress-bar progress-bar-danger\" role=\"progressbar\" aria-valuenow=\"80\" aria-valuemin=\"0\" aria-valuemax=\"100\" style=\"width: 80%\">\n",
    "    <span class=\"sr-only\">80% Complete (danger)</span>\n",
    "  </div>\n",
    "</div>\n",
    "\n",
    "<div class=\"panel panel-default\"> \n",
    "    <div class=\"panel-heading\"> \n",
    "        <div class=\"panel-title\">Panel default</div> \n",
    "    </div> \n",
    "    <div class=\"panel-body\"> Panel content </div> \n",
    "</div>\n",
    "<div class=\"panel panel-primary\"> \n",
    "    <div class=\"panel-heading\"> \n",
    "        <div class=\"panel-title\">Panel primary</div> \n",
    "    </div> \n",
    "    <div class=\"panel-body\"> Panel content </div> \n",
    "</div>\n",
    "<div class=\"panel panel-success\"> \n",
    "    <div class=\"panel-heading\"> \n",
    "        <div class=\"panel-title\">Panel success</div> \n",
    "    </div> \n",
    "    <div class=\"panel-body\"> Panel content </div> \n",
    "</div>\n",
    "<div class=\"panel panel-info\"> \n",
    "    <div class=\"panel-heading\"> \n",
    "        <div class=\"panel-title\">Panel info</div> \n",
    "    </div> \n",
    "    <div class=\"panel-body\"> Panel content </div> \n",
    "</div>\n",
    "<div class=\"panel panel-warning\"> \n",
    "    <div class=\"panel-heading\"> \n",
    "        <div class=\"panel-title\">Panel warning</div> \n",
    "    </div> \n",
    "    <div class=\"panel-body\"> Panel content </div> \n",
    "</div>\n",
    "<div class=\"panel panel-danger\"> \n",
    "    <div class=\"panel-heading\"> \n",
    "        <div class=\"panel-title\">Panel danger</div> \n",
    "    </div> \n",
    "    <div class=\"panel-body\"> Panel content </div> \n",
    "</div>\n",
    "\n"
   ]
  },
  {
   "cell_type": "markdown",
   "metadata": {
    "deletable": true,
    "editable": true,
    "run_control": {
     "marked": true
    }
   },
   "source": [
    "<button class=\"btn btn-primary\" type=\"button\">\n",
    "  Messages <span class=\"badge\"></span>\n",
    "</button>\n"
   ]
  },
  {
   "cell_type": "markdown",
   "metadata": {
    "deletable": true,
    "editable": true
   },
   "source": [
    "<div class=\"alert alert-success\" role=\"alert\">...</div>\n",
    "<div class=\"alert alert-info\" role=\"alert\">...</div>\n",
    "<div class=\"alert alert-warning\" role=\"alert\">...</div>\n",
    "<div class=\"alert alert-danger\" role=\"alert\">...</div>"
   ]
  },
  {
   "cell_type": "markdown",
   "metadata": {
    "deletable": true,
    "editable": true
   },
   "source": []
  },
  {
   "cell_type": "code",
   "execution_count": null,
   "metadata": {
    "collapsed": true,
    "deletable": true,
    "editable": true
   },
   "outputs": [],
   "source": []
  }
 ],
 "metadata": {
  "_draft": {
   "nbviewer_url": "https://gist.github.com/51a6a7a47140fffa5131a5c1676174d2"
  },
  "anaconda-cloud": {
   "attach-environment": true,
   "summary": "PRUEBA",
   "url": "https://anaconda.org/wtrssn/raspberry-configuracion"
  },
  "gist": {
   "data": {
    "description": "notebook/RASPBERRY CONFIGURACIÓN.ipynb",
    "public": true
   },
   "id": "51a6a7a47140fffa5131a5c1676174d2"
  },
  "hide_input": false,
  "kernelspec": {
   "display_name": "Python 3",
   "language": "python",
   "name": "python3"
  },
  "language_info": {
   "codemirror_mode": {
    "name": "ipython",
    "version": 3
   },
   "file_extension": ".py",
   "mimetype": "text/x-python",
   "name": "python",
   "nbconvert_exporter": "python",
   "pygments_lexer": "ipython3",
   "version": "3.6.0"
  },
  "nav_menu": {},
  "toc": {
   "colors": {
    "hover_highlight": "#DAA520",
    "running_highlight": "#FF0000",
    "selected_highlight": "#FFD700"
   },
   "moveMenuLeft": true,
   "nav_menu": {
    "height": "138px",
    "width": "252px"
   },
   "navigate_menu": true,
   "number_sections": true,
   "sideBar": true,
   "threshold": 4,
   "toc_cell": false,
   "toc_section_display": "block",
   "toc_window_display": true,
   "widenNotebook": false
  }
 },
 "nbformat": 4,
 "nbformat_minor": 0
}
