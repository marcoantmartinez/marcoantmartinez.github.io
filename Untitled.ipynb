{
 "cells": [
  {
   "cell_type": "markdown",
   "metadata": {},
   "source": [
    "<p style=\"text-align:center;\">\n",
    "<img src=\"https://s-media-cache-ak0.pinimg.com/originals/02/be/06/02be068cf3467a0e5665fc6e8dcd7eb7.jpg\" height=\"300\"/></p>\n",
    "\n",
    "# Sesión 1 : BLOQUES DE CONTROL \n",
    "<br>En esta lección los estudiantes aprenderán como funcionan los bloques de control principales del editor Bitbloq, cómo programar algoritmos en Arduino, cómo mostrar datos y qué son los sensores y actuadores. </br> \n",
    "<br>Finalmente serán capaces de desarrollar el juego **Quién pulsa el botón más rápido**.</br>\n",
    "## <i class=\"icon ion-wrench\"/>   Recursos necesarios\n",
    "- Cuentas de Bitbloq activadas para los alumnos - grupos\n",
    "\n",
    "## <i class=\"icon ion-android-locate\"/>   Objetivos de aprendizaje\n",
    "- Entender que es un algoritmo y sus partes principales.\n",
    "- Ser capaces de inicializar, preparar y ejecutar un algoritmo básico.\n",
    "- Entender cómo funciona la salida serie de Arduino.\n",
    "- Ser capaz de escribir y leer en el puerto serie de Arduino.\n",
    "- Entender el bloque de espera.\n",
    "- Ser capa de utilizar el bloque de espera.\n",
    "- Entender como funcionan los bloques de control.\n",
    "- Ser capaces de utilizar los bloques de control de forma autónoma.\n",
    "- Entender como funciona una variable.\n",
    "- Ser capaz de utilizar las variables.\n",
    "- Entender como funciona el bloque de temporizador de Arduino.\n",
    "\n",
    "## <i class=\"icon ion-shuffle\"/>    Aplicaciones Transversales\n",
    "- Tecnologías de Información - Programación, algorítmica, bloques control, variables, puerto serie, aleatoriedad, concatenación de texto.\n",
    "- Física - Tiempo de reacción y medida (mili segundos), Sensores y Actuadores, Electrónica de diodo y pulsador.\n",
    "- Matemáticas - Algoritmos. Cálculo de Tiempo de reacción. Números aleatorios.\n",
    "\n",
    "## <i class=\"icon ion-clipboard\"/>  Resumen de Lección\n",
    "- ¿Que es un algoritmo?\n",
    "- ¿Qué es el puerto serie de Arduino?\n",
    "- ¿Qué es una variable?\n",
    "- ¿Que es un pulsador y un diodo?\n",
    "- ¿Qué son los bloques de control?\n",
    "- ¿Cómo medimos tiempos con Arduino?\n",
    "\n",
    "## <i class=\"icon ion-power\"/>  Inicio\n",
    "Pedir a los alumnos que piensen en algoritmos, darles un ejemplo, pedirle que en ejemplos, hacerles ver que aunque no pensamos en ellos, están presentes en todas las actividades diarias de todos nosotros.\n",
    "\n",
    "## <i class=\"icon ion-ios-film\"/>   Desarrollo\n",
    "1. Arrancar el navegador Google Chrome e iniciar la sesión del BitBloq\n",
    "2. Los alumnos - grupos siguen las instrucciones del profesor y las ejecutan en Bitbloq.\n",
    "3. Resolver las dudas de los alumnos según vayan apareciendo.\n",
    "\n",
    "## <i class=\"icon ion-android-hand\"/>   Puesta en Común\n",
    "Pedimos a los alumnos reflexionar sobre:\n",
    "- Imaginar que otras cosas se podrían hacer con un botón.\n",
    "- Imaginar que otros sensores se podrían utilizar.\n",
    "- Imaginar que otras cosas se podrían hacer con un Led.\n",
    "- Imaginar que otros actuadores se podrían utilizar.\n",
    "- Es sencillo o complicado hacer lo que imaginan.\n",
    "\n",
    "**Conclusión**\n",
    "- Se pueden utilizar muchos sensores.\n",
    "- Se pueden utilizar muchos actuadores.\n",
    "- Los algoritmos son sencillos si los dividimos en partes pequeñas.\n",
    "\n",
    "## <i class=\"icon ion-trophy\"/>     Reto\n",
    "¿ Qué pasa si el tiempo que hay entre el Preparados, Listos, Ya del juego **\"Quién pulsa el botón más rápido\" es aleatorio entre 1 y 5 segundos ?"
   ]
  },
  {
   "cell_type": "code",
   "execution_count": null,
   "metadata": {
    "collapsed": true
   },
   "outputs": [],
   "source": []
  }
 ],
 "metadata": {
  "hide_input": false,
  "kernelspec": {
   "display_name": "Python 3",
   "language": "python",
   "name": "python3"
  },
  "language_info": {
   "codemirror_mode": {
    "name": "ipython",
    "version": 3
   },
   "file_extension": ".py",
   "mimetype": "text/x-python",
   "name": "python",
   "nbconvert_exporter": "python",
   "pygments_lexer": "ipython3",
   "version": "3.6.0"
  },
  "toc": {
   "colors": {
    "hover_highlight": "#DAA520",
    "running_highlight": "#FF0000",
    "selected_highlight": "#FFD700"
   },
   "moveMenuLeft": true,
   "nav_menu": {
    "height": "174px",
    "width": "252px"
   },
   "navigate_menu": true,
   "number_sections": true,
   "sideBar": true,
   "threshold": 4,
   "toc_cell": false,
   "toc_section_display": "block",
   "toc_window_display": false,
   "widenNotebook": false
  }
 },
 "nbformat": 4,
 "nbformat_minor": 2
}
